{
 "cells": [
  {
   "cell_type": "markdown",
   "id": "046a2c7e",
   "metadata": {},
   "source": [
    "Solving the Schrödinger equation for a free particle"
   ]
  },
  {
   "cell_type": "code",
   "execution_count": null,
   "id": "443729df",
   "metadata": {
    "vscode": {
     "languageId": "plaintext"
    }
   },
   "outputs": [],
   "source": []
  }
 ],
 "metadata": {
  "language_info": {
   "name": "python"
  }
 },
 "nbformat": 4,
 "nbformat_minor": 5
}
